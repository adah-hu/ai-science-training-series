{
  "nbformat": 4,
  "nbformat_minor": 0,
  "metadata": {
    "colab": {
      "provenance": [],
      "authorship_tag": "ABX9TyOzp9PcWoeQTMqXQfZoKh6/",
      "include_colab_link": true
    },
    "kernelspec": {
      "name": "python3",
      "display_name": "Python 3"
    },
    "language_info": {
      "name": "python"
    }
  },
  "cells": [
    {
      "cell_type": "markdown",
      "metadata": {
        "id": "view-in-github",
        "colab_type": "text"
      },
      "source": [
        "<a href=\"https://colab.research.google.com/github/adah-hu/ai-science-training-series/blob/main/2024_8_04_AdahHu_1.ipynb\" target=\"_parent\"><img src=\"https://colab.research.google.com/assets/colab-badge.svg\" alt=\"Open In Colab\"/></a>"
      ]
    },
    {
      "cell_type": "code",
      "execution_count": null,
      "metadata": {
        "id": "4_kC_OzzD-wR"
      },
      "outputs": [],
      "source": [
        "import pandas as pd\n",
        "import numpy as np\n",
        "import matplotlib.pyplot as plt\n",
        "import IPython.display as ipydis\n",
        "import time\n",
        "\n",
        "data = pd.read_csv('slimmed_realestate_data.csv')\n",
        "\n",
        "def plot_data(x,y,m,b,plt = plt):\n",
        "   # plot our data points with 'bo' = blue circles\n",
        "   plt.plot(x,y,'bo')\n",
        "   # create the line based on our linear fit\n",
        "   # first we need to make x points\n",
        "   # the 'arange' function generates points between two limits (min,max)\n",
        "   linear_x = np.arange(x.min(),x.max())\n",
        "   # now we use our fit parameters to calculate the y points based on our x points\n",
        "   linear_y = linear_x * m + b\n",
        "   # plot the linear points using 'r-' = red line\n",
        "   plt.plot(linear_x,linear_y,'r-',label='fit')\n",
        "\n",
        "def model(x,m,b):\n",
        "    return m * x + b\n",
        "\n",
        "def loss(x,y,m,b):\n",
        "  y_predicted = model(x,m,b)\n",
        "  return np.power(y-y_predicted, 2)\n",
        "\n",
        "def updated_m(x,y,n,b,learning_rate):\n",
        "  dL_dm = -2 * x* (y -model(x,m,b))\n",
        "  dL_dm = np.mean(dL_dm)\n",
        "  return m- learning_rate * dL_dm\n",
        "\n",
        "def updated_b(x,y,m,b,learning_rate):\n",
        "  dL_db = -2 * (y- model(x,m,b))\n",
        "  dL_db = np.mean(dL_db)\n",
        "  return b - learning_rate * dL_db\n"
      ]
    },
    {
      "cell_type": "code",
      "execution_count": null,
      "metadata": {
        "id": "CpD45MX_D1F1"
      },
      "outputs": [],
      "source": [
        "\n",
        "# set our initial slope and intercept\n",
        "m = 5.\n",
        "b = 1000.\n",
        "\n",
        "# the factor we are increasing batch-size, learning_rate_m, and learning_rate_b by.\n",
        "# determined if i exceeds 6, the training will not converge\n",
        "i = 1\n",
        "\n",
        "# set a learning rate for each parameter\n",
        "batch_size, learning_rate_m, learning_rate_b = (64*i, 1e-7* i, 1e-1* i)\n",
        "data_batch = data.sample(batch_size)\n",
        "\n",
        "\n",
        "# use these to plot our progress over time\n",
        "loss_history = []\n",
        "\n",
        "# convert panda data to numpy arrays of size batch_size,\n",
        "# one for the \"Ground Living Area\" and one for \"Sale Price\"\n",
        "data_x = data_batch['GrLivArea'].to_numpy()\n",
        "data_y = data_batch['SalePrice'].to_numpy()\n",
        "\n",
        "# we run our loop N times\n",
        "loop_N = 30*len(data) // batch_size\n",
        "for j in range(loop_N):\n",
        "   # preserve the value for later\n",
        "   m_calc = m\n",
        "   b_calc = b\n",
        "\n",
        "   # update our slope and intercept based on the current values\n",
        "   m = updated_m(data_x,data_y,m,b,learning_rate_m)\n",
        "   b = updated_b(data_x,data_y,m,b,learning_rate_b)\n",
        "\n",
        "   # calculate the loss value\n",
        "   loss_value = np.mean(loss(data_x,data_y,m,b))\n",
        "\n",
        "   # keep a history of our loss values\n",
        "   loss_history.append(loss_value)\n",
        "\n",
        "   # print our progress\n",
        "   print(f'''[{j}]  \\n dy_i = {m} * x + {b} \\\n",
        "      \\n previously calculated: y_i = {m_calc} * x + {b_calc} \\\n",
        "      \\n loss: {loss_value}''')\n",
        "\n",
        "   # close/delete previous plots\n",
        "   plt.close('all')\n",
        "\n",
        "   # create a 1 by 2 plot grid\n",
        "   fig,ax = plt.subplots(1,2,figsize=(18,6),dpi=80)\n",
        "   # plot our usual output\n",
        "   plot_data(data_x,data_y,m,b,ax[0])\n",
        "\n",
        "   # here we also plot the calculated linear fit for comparison\n",
        "   line_x = np.arange(data_x.min(),data_x.max())\n",
        "   line_y = line_x * m_calc + b_calc\n",
        "   ax[0].plot(line_x,line_y,'b-',label='calculated')\n",
        "   # add a legend to the plot and x/y labels\n",
        "   ax[0].legend()\n",
        "   ax[0].set_xlabel('square footage')\n",
        "   ax[0].set_ylabel('sale price')\n",
        "\n",
        "   # plot the loss\n",
        "   loss_x = np.arange(0,len(loss_history))\n",
        "   loss_y = np.asarray(loss_history)\n",
        "   ax[1].plot(loss_x,loss_y, 'o-')\n",
        "   ax[1].set_yscale('log')\n",
        "   ax[1].set_xlabel('loop step')\n",
        "   ax[1].set_ylabel('loss')\n",
        "   plt.show()\n",
        "   # gives us time to see the plot\n",
        "   time.sleep(2.5)\n",
        "   # clears the plot when the next plot is ready to show.\n",
        "   ipydis.clear_output(wait=True)\n",
        "\n"
      ]
    },
    {
      "cell_type": "code",
      "source": [],
      "metadata": {
        "id": "ZqLniHDwI8nc"
      },
      "execution_count": null,
      "outputs": []
    }
  ]
}